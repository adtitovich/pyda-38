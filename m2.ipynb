{
  "cells": [
    {
      "cell_type": "markdown",
      "metadata": {
        "id": "view-in-github",
        "colab_type": "text"
      },
      "source": [
        "<a href=\"https://colab.research.google.com/github/adtitovich/pyda-38/blob/main/m2.ipynb\" target=\"_parent\"><img src=\"https://colab.research.google.com/assets/colab-badge.svg\" alt=\"Open In Colab\"/></a>"
      ]
    },
    {
      "cell_type": "markdown",
      "metadata": {
        "id": "2pCc2BXuykDS"
      },
      "source": [
        "# Домашнее задание к лекции \"Введение в типы данных и циклы. Часть 1\""
      ]
    },
    {
      "cell_type": "markdown",
      "metadata": {
        "id": "ggklf6w7ykDZ"
      },
      "source": [
        "## Задание 1\n",
        "Дана переменная, в которой хранится слово из латинских букв. Напишите код, который выводит на экран:\n",
        "- среднюю букву, если число букв в слове нечетное;\n",
        "- две средних буквы, если число букв четное.\n",
        "\n",
        "Примеры работы программы:  \n",
        "1. `word = 'test'`\n",
        "\n",
        "Результат:  \n",
        "`es`\n",
        "2.     \n",
        "`word = 'testing'`\n",
        "\n",
        "Результат:  \n",
        "`t`"
      ]
    },
    {
      "cell_type": "code",
      "source": [
        "word = 'test'\n",
        "\n",
        "#длина строки\n",
        "word_len = len(word)\n",
        "\n",
        "if word_len % 2 != 0: # число букв нечетное\n",
        "  print(word[int((word_len-1)/2)]) # выводим среднюю букву\n",
        "\n",
        "else:\n",
        "  print(word[int(word_len/2-1):int(word_len/2+1)]) # выводим две средних буквы \n"
      ],
      "metadata": {
        "colab": {
          "base_uri": "https://localhost:8080/"
        },
        "id": "7g8qHyAvynpy",
        "outputId": "fe0b297e-24f0-421b-b6d0-6cfb5b1c6c1b"
      },
      "execution_count": 14,
      "outputs": [
        {
          "output_type": "stream",
          "name": "stdout",
          "text": [
            "es\n"
          ]
        }
      ]
    },
    {
      "cell_type": "markdown",
      "metadata": {
        "id": "rlZJyFwhykDb"
      },
      "source": [
        "## Задание 2\n",
        "Напишите программу, которая последовательно запрашивает у пользователя числа (по одному за раз) и после первого нуля выводит сумму всех ранее введенных чисел.\n",
        "\n",
        "Примеры работы программы:  \n",
        "1.   \n",
        "\n",
        "```\n",
        "Введите число:  \n",
        "1\n",
        "\n",
        "Введите число:  \n",
        "4\n",
        "\n",
        "Введите число:  \n",
        "6\n",
        "\n",
        "Введите число:  \n",
        "0\n",
        "```\n",
        "\n",
        "Результат:  \n",
        "`11`\n",
        "\n",
        "2.      \n",
        "\n",
        "```\n",
        "Введите число:  \n",
        "0\n",
        "```  \n",
        "\n",
        "Результат:  \n",
        "`0`"
      ]
    },
    {
      "cell_type": "code",
      "source": [
        "summ = 0 # переменная суммы\n",
        "digit = 1 # переменная введенного числа\n",
        "\n",
        "# опрашиваем в цикле пока не введен '0' и считаем сумму\n",
        "while digit != 0:\n",
        "  digit = int(input('Введите число: \\n'))\n",
        "  summ += digit\n",
        "\n",
        "print(summ)"
      ],
      "metadata": {
        "colab": {
          "base_uri": "https://localhost:8080/"
        },
        "id": "KXyXjDdIyrTD",
        "outputId": "50a3543c-a365-499d-c197-54413c495471"
      },
      "execution_count": 100,
      "outputs": [
        {
          "output_type": "stream",
          "name": "stdout",
          "text": [
            "Введите число: \n",
            "1\n",
            "Введите число: \n",
            "4\n",
            "Введите число: \n",
            "0\n",
            "5\n"
          ]
        }
      ]
    },
    {
      "cell_type": "markdown",
      "metadata": {
        "id": "Mx7pIJ0tykDe"
      },
      "source": [
        "## Задание 3\n",
        "\n",
        "Мы делаем [MVP](https://ru.wikipedia.org/wiki/%D0%9C%D0%B8%D0%BD%D0%B8%D0%BC%D0%B0%D0%BB%D1%8C%D0%BD%D0%BE_%D0%B6%D0%B8%D0%B7%D0%BD%D0%B5%D1%81%D0%BF%D0%BE%D1%81%D0%BE%D0%B1%D0%BD%D1%8B%D0%B9_%D0%BF%D1%80%D0%BE%D0%B4%D1%83%D0%BA%D1%82) dating-сервиса, и у нас есть список парней и девушек.  \n",
        "Выдвигаем гипотезу: лучшие рекомендации мы получим, если просто отсортируем имена по алфавиту и познакомим людей с одинаковыми индексами после сортировки!\n",
        "Но мы не будем никого знакомить, если кто-то может остаться без пары:\n",
        "\n",
        "Примеры работы программы:  \n",
        "1.  \n",
        "\n",
        "```\n",
        "boys = ['Peter', 'Alex', 'John', 'Arthur', 'Richard']\n",
        "girls = ['Kate', 'Liza', 'Kira', 'Emma', 'Trisha']\n",
        "```\n",
        "\n",
        "Результат:  \n",
        "```\n",
        "Идеальные пары:  \n",
        "Alex и Emma  \n",
        "Arthur и Kate  \n",
        "John и Kira  \n",
        "Peter и Liza  \n",
        "Richard и Trisha \n",
        "```\n",
        "2.     \n",
        "\n",
        "```\n",
        "boys = ['Peter', 'Alex', 'John', 'Arthur', 'Richard', 'Michael']\n",
        "girls = ['Kate', 'Liza', 'Kira', 'Emma', 'Trisha']\n",
        "```\n",
        "\n",
        "Результат:  \n",
        "`Внимание, кто-то может остаться без пары!`"
      ]
    },
    {
      "cell_type": "code",
      "source": [
        "boys = ['Peter', 'Alex', 'John', 'Arthur', 'Richard']\n",
        "girls = ['Kate', 'Liza', 'Kira', 'Emma', 'Trisha']\n",
        "\n",
        "# сравниваем длины списков\n",
        "if len(boys) == len(girls):\n",
        "  # выводим по элементно из сортированных списков\n",
        "  print('Идеальные пары:')\n",
        "  for (boy, girl) in zip(sorted(boys), sorted(girls)):\n",
        "    print(f'{boy} и {girl}')\n",
        "else:\n",
        "  print('Внимание, кто-то может остаться без пары!')"
      ],
      "metadata": {
        "colab": {
          "base_uri": "https://localhost:8080/"
        },
        "id": "IUOhcU12yvUv",
        "outputId": "61d3ed07-5b4e-477a-90ae-8d2bc968ea60"
      },
      "execution_count": 71,
      "outputs": [
        {
          "output_type": "stream",
          "name": "stdout",
          "text": [
            "Идеальные пары:\n",
            "Alex и Emma\n",
            "Arthur и Kate\n",
            "John и Kira\n",
            "Peter и Liza\n",
            "Richard и Trisha\n"
          ]
        }
      ]
    },
    {
      "cell_type": "markdown",
      "metadata": {
        "id": "0em3qOo4ykDg"
      },
      "source": [
        "## Задание 4\n",
        "\n",
        "У нас есть список, содержащий информацию о среднедневной температуре в Фаренгейтах за произвольный период по странам (структура данных в примере).\n",
        "Необходимо написать код, который рассчитает среднюю температуру за период в Цельсиях(!) для каждой страны.\n",
        "\n",
        "Пример работы программы:  \n",
        "```\n",
        "countries_temperature = [\n",
        "    ['Thailand', [75.2, 77, 78.8, 73.4, 68, 75.2, 77]],\n",
        "    ['Germany', [57.2, 55.4, 59, 59, 53.6]],\n",
        "    ['Russia', [35.6, 37.4, 39.2, 41, 42.8, 39.2, 35.6]],\n",
        "    ['Poland', [50, 50, 53.6, 57.2, 55.4, 55.4]]\n",
        "]\n",
        "```\n",
        "\n",
        "Результат:  \n",
        "```\n",
        "Средняя температура в странах:\n",
        "Thailand  -  23.9 С\n",
        "Germany  -  13.8 С\n",
        "Russia  -  3.7 С\n",
        "Poland  -  12.0 С\n",
        "```"
      ]
    },
    {
      "cell_type": "code",
      "source": [
        "countries_temperature = [\n",
        "    ['Thailand', [75.2, 77, 78.8, 73.4, 68, 75.2, 77]],\n",
        "    ['Germany', [57.2, 55.4, 59, 59, 53.6]],\n",
        "    ['Russia', [35.6, 37.4, 39.2, 41, 42.8, 39.2, 35.6]],\n",
        "    ['Poland', [50, 50, 53.6, 57.2, 55.4, 55.4]]\n",
        "]\n",
        "\n",
        "print('Средняя температура в странах:')\n",
        "\n",
        "for element in countries_temperature:\n",
        "    print(f'{element[0]} - {round((sum(element[1])/len(element[1])-32)/1.8, 1)} C')\n",
        "\n"
      ],
      "metadata": {
        "colab": {
          "base_uri": "https://localhost:8080/"
        },
        "id": "D_Ru9xN_ywCx",
        "outputId": "94856324-5bba-402d-81de-f2e0f30cea74"
      },
      "execution_count": 67,
      "outputs": [
        {
          "output_type": "stream",
          "name": "stdout",
          "text": [
            "Средняя температура в странах:\n",
            "Thailand - 23.9 C\n",
            "Germany - 13.8 C\n",
            "Russia - 3.7 C\n",
            "Poland - 12.0 C\n"
          ]
        }
      ]
    },
    {
      "cell_type": "markdown",
      "metadata": {
        "id": "64mMp91tykDi"
      },
      "source": [
        "## Задание 5 (необязательное)\n",
        "\n",
        "Дан поток логов по количеству просмотренных страниц для каждого пользователя. Вам необходимо написать алгоритм, который считает среднее значение просмотров на пользователя. \n",
        "Т. е. надо посчитать отношение суммы всех просмотров к количеству уникальных пользователей.\n",
        "\n",
        "Примеры работы программы:  \n",
        "1.  \n",
        "\n",
        "```\n",
        "stream = [\n",
        "    '2018-01-01,user1,3',\n",
        "    '2018-01-07,user1,4',\n",
        "    '2018-03-29,user1,1',\n",
        "    '2018-04-04,user1,13',\n",
        "    '2018-01-05,user2,7',\n",
        "    '2018-06-14,user3,4',\n",
        "    '2018-07-02,user3,10',\n",
        "    '2018-03-21,user4,19',\n",
        "    '2018-03-22,user4,4',\n",
        "    '2018-04-22,user4,8',\n",
        "    '2018-05-03,user4,9',\n",
        "    '2018-05-11,user4,11',\n",
        "]\n",
        "```\n",
        "\n",
        "Результат:  \n",
        "`Среднее количество просмотров на уникального пользователя: 23.25`\n",
        "2.     \n",
        "\n",
        "```\n",
        "stream = [\n",
        "    '2018-01-01,user100,150',\n",
        "    '2018-01-07,user99,205',\n",
        "    '2018-03-29,user1001,81'\n",
        "]\n",
        "```\n",
        "\n",
        "Результат:  \n",
        "`Среднее количество просмотров на уникального пользователя: 145.33`"
      ]
    },
    {
      "cell_type": "code",
      "source": [
        "stream = [\n",
        "    '2018-01-01,user1,3',\n",
        "    '2018-01-07,user1,4',\n",
        "    '2018-03-29,user1,1',\n",
        "    '2018-04-04,user1,13',\n",
        "    '2018-01-05,user2,7',\n",
        "    '2018-06-14,user3,4',\n",
        "    '2018-07-02,user3,10',\n",
        "    '2018-03-21,user4,19',\n",
        "    '2018-03-22,user4,4',\n",
        "    '2018-04-22,user4,8',\n",
        "    '2018-05-03,user4,9',\n",
        "    '2018-05-11,user4,11',\n",
        "]\n",
        "\n",
        "\n",
        "users = []  # список пользователей\n",
        "counts = [] # список кол-в просмотров\n",
        "\n",
        "# заполняем списки\n",
        "for element in stream:\n",
        "  users.append(element.split(',')[1])\n",
        "  counts.append(int(element.split(',')[2]))\n",
        "\n",
        "print(f'Среднее количество просмотров на уникального пользователя: {sum(counts)/len(set(users))}')\n"
      ],
      "metadata": {
        "colab": {
          "base_uri": "https://localhost:8080/"
        },
        "id": "uBK5R-zhywpi",
        "outputId": "d208941d-8e87-445a-ead2-1ffc35830593"
      },
      "execution_count": 89,
      "outputs": [
        {
          "output_type": "stream",
          "name": "stdout",
          "text": [
            "Среднее количество просмотров на уникального пользователя: 23.25\n"
          ]
        }
      ]
    },
    {
      "cell_type": "markdown",
      "metadata": {
        "id": "YrL2W-a7ykDk"
      },
      "source": [
        "## Задание 6 (необязательное)\n",
        "\n",
        "Необходимо у пользователя запрашивать набор чисел разделенных пробелом. В результате в отсортированном порядке должны выводиться числа, которые повторяются в вводе более одного раза.\n",
        "\n",
        "Примеры работы программы:  \n",
        "1.  \n",
        "\n",
        "```\n",
        "Введите числа:\n",
        "4 8 0 3 4 2 0 3\n",
        "```\n",
        "\n",
        "Результат:  \n",
        "`0 3 4`\n",
        "\n",
        "2.     \n",
        "\n",
        "```\n",
        "Введите числа:\n",
        "1 1 2 2 3 3\n",
        "```\n",
        "\n",
        "Результат:  \n",
        "`1 2 3`\n",
        "\n",
        "3.     \n",
        "\n",
        "```\n",
        "Введите числа:\n",
        "10 15 15 103 200 200 200 1 1 1 1 1 2 2 2\n",
        "```\n",
        "\n",
        "Результат:  \n",
        "`1 2 15 200`"
      ]
    },
    {
      "cell_type": "code",
      "source": [
        "from collections import Counter\n",
        "\n",
        "# вводим числа и преобразовываем в список (в качестве разделителя - пробел), из списка в словарь\n",
        "digits = Counter(input('Введите числа:').split(' '))\n",
        "\n",
        "result = [] #список для результата\n",
        "\n",
        "# заполняем список результата\n",
        "for key in digits:\n",
        "  if digits[key] > 1: \n",
        "    result.append(key)\n",
        "\n",
        "print(' '.join(sorted(result)))\n"
      ],
      "metadata": {
        "colab": {
          "base_uri": "https://localhost:8080/"
        },
        "id": "IkPYEBWCyxYN",
        "outputId": "82a7ac84-4d84-4309-a0c9-e5f80a868092"
      },
      "execution_count": 99,
      "outputs": [
        {
          "output_type": "stream",
          "name": "stdout",
          "text": [
            "Введите числа:10 15 15 103 200 200 200 1 1 1 1 1 2 2 2\n",
            "1 15 2 200\n"
          ]
        }
      ]
    }
  ],
  "metadata": {
    "kernelspec": {
      "display_name": "Python 3",
      "language": "python",
      "name": "python3"
    },
    "language_info": {
      "codemirror_mode": {
        "name": "ipython",
        "version": 3
      },
      "file_extension": ".py",
      "mimetype": "text/x-python",
      "name": "python",
      "nbconvert_exporter": "python",
      "pygments_lexer": "ipython3",
      "version": "3.8.5"
    },
    "colab": {
      "provenance": [],
      "collapsed_sections": [],
      "include_colab_link": true
    }
  },
  "nbformat": 4,
  "nbformat_minor": 0
}