{
  "nbformat": 4,
  "nbformat_minor": 0,
  "metadata": {
    "colab": {
      "provenance": [],
      "authorship_tag": "ABX9TyN/LX/uDQqDd3Tk8TT/2wJL",
      "include_colab_link": true
    },
    "kernelspec": {
      "name": "python3",
      "display_name": "Python 3"
    },
    "language_info": {
      "name": "python"
    }
  },
  "cells": [
    {
      "cell_type": "markdown",
      "metadata": {
        "id": "view-in-github",
        "colab_type": "text"
      },
      "source": [
        "<a href=\"https://colab.research.google.com/github/adtitovich/pyda-38/blob/main/m5.ipynb\" target=\"_parent\"><img src=\"https://colab.research.google.com/assets/colab-badge.svg\" alt=\"Open In Colab\"/></a>"
      ]
    },
    {
      "cell_type": "markdown",
      "source": [
        "# Домашнее задание к лекции Работа с файловой системой и модули"
      ],
      "metadata": {
        "id": "f6R27-N26Fpp"
      }
    },
    {
      "cell_type": "markdown",
      "source": [
        "1. Переведите содержимое файла purchase_log.txt в словарь purchases вида:\n",
        "``` {‘1840e0b9d4’: ‘Продукты’, …} ```\n",
        "\n",
        "2. Для каждого user_id в файле visit_log.csv определите третий столбец с категорией покупки (если покупка была, сам файл visit_log.csv изменять не надо). Запишите в файл funnel.csv визиты из файла visit_log.csv, в которых были покупки с указанием категории.\n",
        "\n",
        "Учтите условия на данные:\n",
        "* содержимое purchase_log.txt помещается в оперативную память компьютера\n",
        "* содержимое visit_log.csv - нет; используйте только построчную обработку этого файла"
      ],
      "metadata": {
        "id": "7Yrn_CCS6Qol"
      }
    },
    {
      "cell_type": "code",
      "source": [
        "from urllib.request import urlopen\n",
        "import json\n",
        "from google.colab import drive\n",
        "\n",
        "#purchase_log.txt и visit_log.csv считываем с github\n",
        "# funnel.csv записываем \"в корень\" google-диска\n",
        "\n",
        "purchase = {} # словарь для содержимого файла purchase_log.txt  \n",
        "\n",
        "#содержимое purchase_log.txt помещаем в словарь\n",
        "with urlopen(\"https://github.com/adtitovich/pyda-38/raw/main/m5-files/purchase_log.txt\") as resp_purchase:\n",
        "  my_string = resp_purchase.read().decode('utf-8') # содержимое purchase_log.txt помещается в оперативную память компьютера\n",
        "  for i, line in enumerate(my_string.splitlines()[1:]): # переводим в словарь, отбрасывая первую строку (заголовок)\n",
        "    a = json.loads(line)\n",
        "    purchase.update({a.get('user_id'):a.get('category')})\n",
        "  resp_purchase.close()\n",
        "\n",
        "\n",
        "drive.mount('/content/gdrive') # монтируем google-диск для записи funnel.csv\n",
        "\n",
        "# Пишем в файл funnel.csv визиты из файла visit_log.csv, в которых были покупки с указанием категории.\n",
        "with urlopen(\"https://github.com/adtitovich/pyda-38/raw/main/m5-files/visit_log.csv\") as resp_visit:\n",
        "  resp_visit.readline() #отбрасываем заголовок\n",
        "  with open('/content/gdrive/My Drive/funnel.csv', 'w') as f:\n",
        "    print(','.join(['user_id', 'context', 'category']), file=f) # заголовок для funnel.csv\n",
        "    for line in resp_visit: #считываем построчно visit_log.csv\n",
        "      user_id, context = line.strip().decode('utf-8').rsplit(',')\n",
        "      if user_id in purchase: # если user_id купил, то пишем построчно в funnel.csv\n",
        "        print(','.join([user_id, context, purchase[user_id]]), file = f)\n",
        "\n",
        "    f.close()\n",
        "  resp_visit.close() \n",
        "\n",
        "drive.flush_and_unmount()\n",
        "\n",
        "\n",
        "\n"
      ],
      "metadata": {
        "id": "_UY7Mu3G63mr",
        "colab": {
          "base_uri": "https://localhost:8080/"
        },
        "outputId": "e0dcb686-284d-4067-af28-25f8d5da9f88"
      },
      "execution_count": 131,
      "outputs": [
        {
          "output_type": "stream",
          "name": "stdout",
          "text": [
            "Mounted at /content/gdrive\n"
          ]
        }
      ]
    }
  ]
}