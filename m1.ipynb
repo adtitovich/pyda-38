{
  "nbformat": 4,
  "nbformat_minor": 0,
  "metadata": {
    "colab": {
      "provenance": [],
      "collapsed_sections": [],
      "authorship_tag": "ABX9TyMsaU9DcvT0cJzY8vP8ArbA",
      "include_colab_link": true
    },
    "kernelspec": {
      "name": "python3",
      "display_name": "Python 3"
    },
    "language_info": {
      "name": "python"
    }
  },
  "cells": [
    {
      "cell_type": "markdown",
      "metadata": {
        "id": "view-in-github",
        "colab_type": "text"
      },
      "source": [
        "<a href=\"https://colab.research.google.com/github/adtitovich/pyda-38/blob/main/m1.ipynb\" target=\"_parent\"><img src=\"https://colab.research.google.com/assets/colab-badge.svg\" alt=\"Open In Colab\"/></a>"
      ]
    },
    {
      "cell_type": "markdown",
      "source": [
        "***Домашнее задание по теме «Основы Python»***"
      ],
      "metadata": {
        "id": "lvBnXqtfIzQ3"
      }
    },
    {
      "cell_type": "markdown",
      "source": [
        "**Задание 1**\n",
        "\n",
        "Даны 2 переменных, в которых хранятся строки произвольной длины: phrase_1 и phrase_2.\n",
        "\n",
        "Напишите код, который проверяет какая из этих строк длиннее."
      ],
      "metadata": {
        "id": "Op4c_QIuBcsC"
      }
    },
    {
      "cell_type": "code",
      "source": [
        "phrase_1 = 'Насколько проще было бы писать программы, если бы не заказчики'\n",
        "phrase_2 = '640Кб должно хватить для любых задач. Билл Гейтс (по легенде)'\n",
        "\n",
        "# сравниваем длины строк\n",
        "if len(phrase_1) > len(phrase_2):\n",
        "  print('Фраза 1 длиннее фразы 2')\n",
        "elif len(phrase_1) < len(phrase_2):\n",
        "  print('Фраза 2 длиннее фразы 1')\n",
        "else:\n",
        "  print('Фразы равной длины')\n"
      ],
      "metadata": {
        "colab": {
          "base_uri": "https://localhost:8080/"
        },
        "id": "8XsOeyGdBmOH",
        "outputId": "e0fbb2d8-5515-4ed7-92b8-030dad712bb3"
      },
      "execution_count": 11,
      "outputs": [
        {
          "output_type": "stream",
          "name": "stdout",
          "text": [
            "Фраза 1 длиннее фразы 2\n"
          ]
        }
      ]
    },
    {
      "cell_type": "markdown",
      "source": [
        "**Задание 2**\n",
        "\n",
        "Дана переменная, в которой хранится четырехзначное число (год). \n",
        "\n",
        "Необходимо написать программу, которая выведет, является ли данный год високосным или обычным."
      ],
      "metadata": {
        "id": "IZfJYDi1FHrH"
      }
    },
    {
      "cell_type": "code",
      "source": [
        "year = 2020\n",
        "\n",
        "# год, номер которого кратен 400, — високосный;\n",
        "# остальные годы, номер которых кратен 100, — невисокосные;\n",
        "# остальные годы, номер которых кратен 4, — високосные\n",
        "# все остальные годы — невисокосные.\n",
        "\n",
        "if year % 400 == 0:\n",
        "  print('Високосный год')\n",
        "elif year % 100 == 0:\n",
        "  print('Обычный год')\n",
        "elif year % 4 == 0:\n",
        "  print('Високосный год')\n",
        "else:\n",
        "  print('Обычный год')"
      ],
      "metadata": {
        "colab": {
          "base_uri": "https://localhost:8080/"
        },
        "id": "J0Coq1xmFSxR",
        "outputId": "2d1b39a9-b5cf-4b6b-ea85-a2c182150073"
      },
      "execution_count": 15,
      "outputs": [
        {
          "output_type": "stream",
          "name": "stdout",
          "text": [
            "Високосный год\n"
          ]
        }
      ]
    },
    {
      "cell_type": "markdown",
      "source": [
        "**Задание 3**\n",
        "\n",
        "Необходимо написать программу, которая будет запрашивать у пользователя месяц и дату рождения и выводить соответствующий знак зодиака.\n",
        "\n"
      ],
      "metadata": {
        "id": "3gFqIzzXHu45"
      }
    },
    {
      "cell_type": "code",
      "source": [
        "day = int(input('Введите день:\\n'))\n",
        "month = str(input('Введите месяц:\\n'))\n",
        "\n",
        "if (month == 'Март' and day >= 21) or (month == 'Апрель' and day <= 20):\n",
        "  print('Ваш знак зодиака: Овен')\n",
        "elif (month == 'Апрель' and day >= 21) or (month == 'Май' and day <= 21):\n",
        "  print('Ваш знак зодиака: Телец')\n",
        "elif (month == 'Май' and day >= 22) or (month == 'Июнь' and day <= 21):\n",
        "  print('Ваш знак зодиака: Близнецы')\n",
        "elif (month == 'Июнь' and day >= 22) or (month == 'Июль' and day <= 22):\n",
        "  print('Ваш знак зодиака: Рак')\n",
        "elif (month == 'Июль' and day >= 23) or (month == 'Август' and day <= 21):\n",
        "  print('Ваш знак зодиака: Лев')\n",
        "elif (month == 'Август' and day >= 22) or (month == 'Сентябрь' and day <= 23):\n",
        "  print('Ваш знак зодиака: Дева')\n",
        "elif (month == 'Сентябрь' and day >= 24) or (month == 'Октябрь' and day <= 23):\n",
        "  print('Ваш знак зодиака: Весы')\n",
        "elif (month == 'Октябрь' and day >= 24) or (month == 'Ноябрь' and day <= 22):\n",
        "  print('Ваш знак зодиака: Скорпион')\n",
        "elif (month == 'Ноябрь' and day >= 23) or (month == 'Декабрь' and day <= 22):\n",
        "  print('Ваш знак зодиака: Стрелец')\n",
        "elif (month == 'Декабрь' and day >= 23) or (month == 'Январь' and day <= 20):\n",
        "  print('Ваш знак зодиака: Козерог')\n",
        "elif (month == 'Январь' and day >= 21) or (month == 'Февраль' and day <= 19):\n",
        "  print('Ваш знак зодиака: Водолей')\n",
        "elif (month == 'Февраль' and day >= 20) or (month == 'Март' and day <= 20)  :\n",
        "  print('Ваш знак зодиака: Рыбы')\n",
        "else:\n",
        "  print('Введены некорректные данные')"
      ],
      "metadata": {
        "colab": {
          "base_uri": "https://localhost:8080/"
        },
        "id": "vtbBW6CiHxyf",
        "outputId": "805fd138-cf2e-4007-b776-1a132ddd23c4"
      },
      "execution_count": 49,
      "outputs": [
        {
          "output_type": "stream",
          "name": "stdout",
          "text": [
            "Введите день:\n",
            "11\n",
            "Введите месяц:Сентябрь\n",
            "Ваш знак зодиака: Дева\n"
          ]
        }
      ]
    },
    {
      "cell_type": "markdown",
      "source": [
        "**Задание 4**\n",
        "\n",
        "Вам нужно написать программу для подбора упаковок по размерам товара. Размеры (ширина, длина, высота) хранятся в переменных (в сантиметрах):\n",
        "\n",
        "Используйте следующие правила:\n",
        "\n",
        "- если каждое из трех измерений менее или равно 15 сантиметрам, то выведите на экран “Коробка №1”;\n",
        "- если хотя бы одно из измерений больше 15 сантиметров, но менее 50 сантиметров, то выводите “Коробка №2”;\n",
        "- если длина товара больше 2 метров, то выводите “Упаковка для лыж”;\n",
        "- во всех остальных случаях выводите “Стандартная коробка №3”."
      ],
      "metadata": {
        "id": "YfSIlkBYHx7W"
      }
    },
    {
      "cell_type": "code",
      "source": [
        "width = 15\n",
        "length = 50\n",
        "height = 15\n",
        "\n",
        "if length < 200:\n",
        "  if width <= 15 and length <= 15 and height <=15:\n",
        "    print('“Коробка №1')\n",
        "  elif (15 < width < 50) or (15 < length < 50) or (15 < height < 50):\n",
        "    print('Коробка №2')\n",
        "  else:\n",
        "    print('Стандартная коробка №3')\n",
        "else:\n",
        "  print('Упаковка для лыж')"
      ],
      "metadata": {
        "colab": {
          "base_uri": "https://localhost:8080/"
        },
        "id": "6K2aMSOqIBYP",
        "outputId": "f690c85c-8112-42ff-d2cc-6847405a7041"
      },
      "execution_count": 18,
      "outputs": [
        {
          "output_type": "stream",
          "name": "stdout",
          "text": [
            "Упаковка для лыж\n"
          ]
        }
      ]
    },
    {
      "cell_type": "markdown",
      "source": [
        "**Задание 5 (необязательное)**\n",
        "\n",
        "Дана переменная, в которой хранится шестизначное число (номер проездного билета). Напишите программу, которая будет определять, является ли данный билет “счастливым”.\n",
        "Билет считается счастливым, если сумма первых трех цифр совпадает с суммой последних трех цифр номера."
      ],
      "metadata": {
        "id": "_gS4YAEyIBja"
      }
    },
    {
      "cell_type": "code",
      "source": [
        "number = 123456\n",
        "\n",
        "# сумма первых трех цифр\n",
        "sum_part_1 = (number // 100000) + ((number % 100000) // 10000) + ((number % 10000) // 1000)\n",
        "\n",
        "# сумма вторых трех цифр\n",
        "sum_part_2 = ((number % 1000) // 100) + ((number % 100) // 10) + (number % 10)\n",
        "\n",
        "# проверка на \"счастливость\"\n",
        "if sum_part_1 == sum_part_2:\n",
        "  print('Счастливый билет')\n",
        "else:\n",
        "  print('Несчастливый билет')"
      ],
      "metadata": {
        "colab": {
          "base_uri": "https://localhost:8080/"
        },
        "id": "XxA3xMkBIInZ",
        "outputId": "33aa18e8-731e-4db8-b88f-93c27319ac1a"
      },
      "execution_count": 35,
      "outputs": [
        {
          "output_type": "stream",
          "name": "stdout",
          "text": [
            "Счастливый билет\n"
          ]
        }
      ]
    },
    {
      "cell_type": "markdown",
      "source": [
        "**Задание 6 (необязательное)**\n",
        "\n",
        "Напишите программу, которая сможет вычислять площади трех фигур (круг, треугольник и прямоугольник). Тип фигуры запрашиваем через пользовательский ввод, после чего делаем запрос характеристик фигуры:\n",
        "- если пользователь выбрал круг, запрашиваем его радиус,\n",
        "- если треугольник – длины трех его сторон;\n",
        "- если прямоугольник – длины двух его сторон.\n"
      ],
      "metadata": {
        "id": "Pn4S3BASIIxY"
      }
    },
    {
      "cell_type": "code",
      "source": [
        "type = str(input('Введите тип фигуры:\\n'))\n",
        "\n",
        "if type == 'Круг':\n",
        "  radius = int(input('Введите радиус круга:\\n'))\n",
        "  print('Площадь круга: ', 3.1416 * (radius**2))\n",
        "elif type == 'Треугольник':\n",
        "  side_a = int(input('Введите длину стороны A:\\n'))\n",
        "  side_b = int(input('Введите длину стороны B:\\n'))\n",
        "  side_c = int(input('Введите длину стороны C:\\n'))\n",
        "  # полупериметр\n",
        "  semi_perimeter = (side_a + side_b + side_c)/2\n",
        "  print('Площадь треугольника: ', (semi_perimeter*(semi_perimeter - side_a)*(semi_perimeter - side_b)*(semi_perimeter - side_c))**0.5)\n",
        "elif type == 'Прямоугольник':\n",
        "  side_a = int(input('Введите длину стороны A:\\n'))\n",
        "  side_b = int(input('Введите длину стороны B:\\n'))\n",
        "  print('Площадь прямоугольника: ', side_a * side_b)\n",
        "else:\n",
        "  print('Неизвестная фигура')\n"
      ],
      "metadata": {
        "colab": {
          "base_uri": "https://localhost:8080/"
        },
        "id": "sLLsMLy9Rx8R",
        "outputId": "850ffe04-dbd2-448c-f316-9c96b01e7d61"
      },
      "execution_count": 46,
      "outputs": [
        {
          "output_type": "stream",
          "name": "stdout",
          "text": [
            "Введите тип фигуры:\n",
            "Прямоугольник\n",
            "Введите длину стороны A:\n",
            "2\n",
            "Введите длину стороны B:\n",
            "2\n",
            "Площадь прямоугольника:  4\n"
          ]
        }
      ]
    }
  ]
}